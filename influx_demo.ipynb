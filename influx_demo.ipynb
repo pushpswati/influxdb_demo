{
 "cells": [
  {
   "cell_type": "markdown",
   "metadata": {},
   "source": [
    "# Install python dependencies\n",
    "Supported and tested on Python 2.7, 3.5, 3.6, 3.7, PyPy and PyPy3."
   ]
  },
  {
   "cell_type": "code",
   "execution_count": 6,
   "metadata": {},
   "outputs": [],
   "source": [
    "#!pip install -r requirements.txt   "
   ]
  },
  {
   "cell_type": "markdown",
   "metadata": {},
   "source": [
    "# Import required packages"
   ]
  },
  {
   "cell_type": "code",
   "execution_count": 7,
   "metadata": {},
   "outputs": [],
   "source": [
    "\n",
    "import argparse\n",
    "\n",
    "from influxdb import DataFrameClient\n",
    "import pandas as pd"
   ]
  },
  {
   "cell_type": "markdown",
   "metadata": {},
   "source": [
    "# CREATE DATAFRAME"
   ]
  },
  {
   "cell_type": "code",
   "execution_count": 8,
   "metadata": {},
   "outputs": [],
   "source": [
    "\n",
    "\n",
    "def data(file_path):\n",
    "    #Following CSV file data used used for this use case\n",
    "    \"\"\"\n",
    "\n",
    "    \"\"\"\n",
    "    \n",
    "    df=pd.read_csv(file_path,index_col=0)\n",
    "\n",
    "    df=df.drop(columns='VM_SIZE')\n",
    "    col=['APPL_PID', 'EXE_NAME', 'CPU_USAGE_PERCENT', 'MEM_USAGE',\n",
    "           'VM_SIZE']\n",
    "    df.columns=col\n",
    "    df.index = pd.to_datetime(df.index)\n",
    "    return df\n",
    "\n"
   ]
  },
  {
   "cell_type": "markdown",
   "metadata": {},
   "source": [
    "# CONNECT DB in DB operations"
   ]
  },
  {
   "cell_type": "code",
   "execution_count": 9,
   "metadata": {},
   "outputs": [],
   "source": [
    "def main(host='localhost', port=8086,dataframe=None):\n",
    "    \"\"\"Instantiate the connection to the InfluxDB client.\"\"\"\n",
    "    if dataframe is None:\n",
    "        print(\"Dataframe should not be None\")\n",
    "        return\n",
    "    user = 'root'\n",
    "    password = 'root'\n",
    "    dbname = 'ntqrdb'\n",
    "    protocol = 'line'\n",
    "\n",
    "    client = DataFrameClient(host, port, user, password, dbname)\n",
    "\n",
    "\n",
    "\n",
    "    print(\"Create database: \" + dbname)\n",
    "    client.create_database(dbname)\n",
    "\n",
    "    print(\"Write DataFrame\")\n",
    "    client.write_points(dataframe, dbname, protocol=protocol)\n",
    "\n",
    "    print(\"Write DataFrame with Tags\")\n",
    "    client.write_points(dataframe, dbname,\n",
    "                        {'k1': 'v1', 'k2': 'v2'}, protocol=protocol)\n",
    "\n",
    "    print(\"Read DataFrame\")\n",
    "    result=client.query(\"select * from ntqrdb\")\n",
    "    print(\"Result: {0}\".format(result))\n",
    "    print(\"Delete database: \" + dbname)\n",
    "    client.drop_database(dbname)"
   ]
  },
  {
   "cell_type": "markdown",
   "metadata": {},
   "source": [
    "# RUN DB operations"
   ]
  },
  {
   "cell_type": "code",
   "execution_count": 10,
   "metadata": {},
   "outputs": [
    {
     "name": "stdout",
     "output_type": "stream",
     "text": [
      "Create database: ntqrdb\n",
      "Write DataFrame\n",
      "Write DataFrame with Tags\n",
      "Read DataFrame\n",
      "Result: defaultdict(<class 'list'>, {'ntqrdb':                            APPL_PID  CPU_USAGE_PERCENT         EXE_NAME  \\\n",
      "2020-03-01 19:30:00+00:00     30161                  0  oracle_30161_ss   \n",
      "2020-03-01 19:30:00+00:00     30161                  0  oracle_30161_ss   \n",
      "2020-03-01 19:45:00+00:00     30161                  0  oracle_30161_ss   \n",
      "2020-03-01 19:45:00+00:00     30161                  0  oracle_30161_ss   \n",
      "2020-03-01 20:00:00+00:00     30161                  0  oracle_30161_ss   \n",
      "2020-03-01 20:00:00+00:00     30161                  0  oracle_30161_ss   \n",
      "\n",
      "                           MEM_USAGE  VM_SIZE    k1    k2  \n",
      "2020-03-01 19:30:00+00:00      54204  1405700  None  None  \n",
      "2020-03-01 19:30:00+00:00      54204  1405700    v1    v2  \n",
      "2020-03-01 19:45:00+00:00      54204  1405700  None  None  \n",
      "2020-03-01 19:45:00+00:00      54204  1405700    v1    v2  \n",
      "2020-03-01 20:00:00+00:00      54204  1405700  None  None  \n",
      "2020-03-01 20:00:00+00:00      54204  1405700    v1    v2  })\n",
      "Delete database: ntqrdb\n"
     ]
    }
   ],
   "source": [
    "def parse_args():\n",
    "    \"\"\"Parse the args from main.\"\"\"\n",
    "    parser = argparse.ArgumentParser(\n",
    "        description='example code to play with InfluxDB')\n",
    "    parser.add_argument('--host', type=str, required=False,\n",
    "                        default='localhost',\n",
    "                        help='hostname of InfluxDB http API')\n",
    "    parser.add_argument('--port', type=int, required=False, default=8086,\n",
    "                        help='port of InfluxDB http API')\n",
    "    return parser.parse_args(args=[])\n",
    "\n",
    "\n",
    "if __name__ == '__main__':\n",
    "    args = parse_args()\n",
    "    file_path=\"data.csv\"\n",
    "    dataframe=data(file_path)\n",
    "    main(host=args.host, port=args.port,dataframe=dataframe)"
   ]
  },
  {
   "cell_type": "code",
   "execution_count": null,
   "metadata": {},
   "outputs": [],
   "source": []
  },
  {
   "cell_type": "code",
   "execution_count": null,
   "metadata": {},
   "outputs": [],
   "source": []
  }
 ],
 "metadata": {
  "kernelspec": {
   "display_name": "swEnv",
   "language": "python",
   "name": "swatienv"
  },
  "language_info": {
   "codemirror_mode": {
    "name": "ipython",
    "version": 3
   },
   "file_extension": ".py",
   "mimetype": "text/x-python",
   "name": "python",
   "nbconvert_exporter": "python",
   "pygments_lexer": "ipython3",
   "version": "3.6.8"
  }
 },
 "nbformat": 4,
 "nbformat_minor": 4
}
